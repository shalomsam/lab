{
 "cells": [
  {
   "cell_type": "code",
   "execution_count": 1,
   "metadata": {},
   "outputs": [
    {
     "name": "stdout",
     "output_type": "stream",
     "text": [
      "Requirement already satisfied: gensim in /home/shalomsam/.pyenv/versions/3.11.9/lib/python3.11/site-packages (4.3.2)\n",
      "Requirement already satisfied: numpy>=1.18.5 in /home/shalomsam/.pyenv/versions/3.11.9/lib/python3.11/site-packages (from gensim) (1.26.4)\n",
      "Requirement already satisfied: scipy>=1.7.0 in /home/shalomsam/.pyenv/versions/3.11.9/lib/python3.11/site-packages (from gensim) (1.10.1)\n",
      "Requirement already satisfied: smart-open>=1.8.1 in /home/shalomsam/.pyenv/versions/3.11.9/lib/python3.11/site-packages (from gensim) (7.0.4)\n",
      "Requirement already satisfied: wrapt in /home/shalomsam/.pyenv/versions/3.11.9/lib/python3.11/site-packages (from smart-open>=1.8.1->gensim) (1.16.0)\n",
      "Note: you may need to restart the kernel to use updated packages.\n",
      "Requirement already satisfied: scipy==1.10.1 in /home/shalomsam/.pyenv/versions/3.11.9/lib/python3.11/site-packages (1.10.1)\n",
      "Requirement already satisfied: numpy<1.27.0,>=1.19.5 in /home/shalomsam/.pyenv/versions/3.11.9/lib/python3.11/site-packages (from scipy==1.10.1) (1.26.4)\n",
      "Note: you may need to restart the kernel to use updated packages.\n"
     ]
    }
   ],
   "source": [
    "%pip install gensim\n",
    "%pip install scipy==1.10.1"
   ]
  },
  {
   "cell_type": "code",
   "execution_count": 3,
   "metadata": {},
   "outputs": [
    {
     "data": {
      "text/plain": [
       "[('towers', 0.877095639705658),\n",
       " ('gate', 0.7934194803237915),\n",
       " ('building', 0.7872829437255859),\n",
       " ('built', 0.7803678512573242),\n",
       " ('roof', 0.7780845165252686),\n",
       " ('skyscraper', 0.7487502098083496),\n",
       " ('constructed', 0.7471458911895752),\n",
       " ('dome', 0.7415344715118408),\n",
       " ('facade', 0.730973482131958),\n",
       " ('entrance', 0.728020966053009)]"
      ]
     },
     "execution_count": 3,
     "metadata": {},
     "output_type": "execute_result"
    }
   ],
   "source": [
    "import gensim.downloader\n",
    "model = gensim.downloader.load(\"glove-wiki-gigaword-50\")\n",
    "model.most_similar(\"tower\", topn=10)"
   ]
  },
  {
   "cell_type": "code",
   "execution_count": 4,
   "metadata": {},
   "outputs": [
    {
     "data": {
      "text/plain": [
       "[('woman', 0.8860337734222412),\n",
       " ('boy', 0.8564431071281433),\n",
       " ('another', 0.8452839851379395),\n",
       " ('old', 0.8372183442115784),\n",
       " ('one', 0.827606201171875),\n",
       " ('who', 0.8244695663452148),\n",
       " ('him', 0.8194693922996521),\n",
       " ('turned', 0.8154467940330505),\n",
       " ('whose', 0.811974048614502),\n",
       " ('himself', 0.807725727558136)]"
      ]
     },
     "execution_count": 4,
     "metadata": {},
     "output_type": "execute_result"
    }
   ],
   "source": [
    "model.most_similar(\"man\", topn=10)"
   ]
  },
  {
   "cell_type": "code",
   "execution_count": 5,
   "metadata": {},
   "outputs": [
    {
     "data": {
      "text/plain": [
       "[('girl', 0.9065280556678772),\n",
       " ('man', 0.8860336542129517),\n",
       " ('mother', 0.8763704299926758),\n",
       " ('her', 0.8613135814666748),\n",
       " ('boy', 0.859611988067627),\n",
       " ('she', 0.8430695533752441),\n",
       " ('herself', 0.8224568367004395),\n",
       " ('child', 0.8108214139938354),\n",
       " ('wife', 0.8037394285202026),\n",
       " ('old', 0.7982394695281982)]"
      ]
     },
     "execution_count": 5,
     "metadata": {},
     "output_type": "execute_result"
    }
   ],
   "source": [
    "model.most_similar(\"woman\", topn=10)"
   ]
  }
 ],
 "metadata": {
  "kernelspec": {
   "display_name": "Python 3",
   "language": "python",
   "name": "python3"
  },
  "language_info": {
   "codemirror_mode": {
    "name": "ipython",
    "version": 3
   },
   "file_extension": ".py",
   "mimetype": "text/x-python",
   "name": "python",
   "nbconvert_exporter": "python",
   "pygments_lexer": "ipython3",
   "version": "3.11.9"
  }
 },
 "nbformat": 4,
 "nbformat_minor": 2
}
