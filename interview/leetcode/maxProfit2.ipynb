{
 "cells": [
  {
   "cell_type": "code",
   "execution_count": 18,
   "metadata": {},
   "outputs": [
    {
     "name": "stdout",
     "output_type": "stream",
     "text": [
      "7\n"
     ]
    }
   ],
   "source": [
    "from typing import List\n",
    "\n",
    "\n",
    "class Solution:\n",
    "    def maxProfit(self, prices: List[int]) -> int:\n",
    "        max_profit = 0\n",
    "        if not prices or len(prices) < 1:\n",
    "            return 0\n",
    "        \n",
    "        for i in range(1, len(prices)):\n",
    "            left = prices[i-1]\n",
    "            right = prices[i]\n",
    "\n",
    "            if left < right:\n",
    "                max_profit += right - left\n",
    "        \n",
    "        return max_profit\n",
    "\n",
    "\n",
    "\n",
    "arr = [7,1,5,3,6,4]\n",
    "sln = Solution()\n",
    "ans = sln.maxProfit(arr)\n",
    "print(ans)\n",
    "assert ans == 7\n"
   ]
  }
 ],
 "metadata": {
  "kernelspec": {
   "display_name": "Python 3",
   "language": "python",
   "name": "python3"
  },
  "language_info": {
   "codemirror_mode": {
    "name": "ipython",
    "version": 3
   },
   "file_extension": ".py",
   "mimetype": "text/x-python",
   "name": "python",
   "nbconvert_exporter": "python",
   "pygments_lexer": "ipython3",
   "version": "3.11.9"
  }
 },
 "nbformat": 4,
 "nbformat_minor": 2
}
