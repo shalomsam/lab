{
 "cells": [
  {
   "cell_type": "code",
   "execution_count": 44,
   "metadata": {},
   "outputs": [
    {
     "name": "stdout",
     "output_type": "stream",
     "text": [
      "7\n",
      "[0, 0, 1, 1, 2, 3, 3, 3, 3]\n",
      "5\n",
      "[1, 1, 2, 2, 3, 3]\n"
     ]
    }
   ],
   "source": [
    "from typing import List\n",
    "\n",
    "### [0,0,1,1,1,1,2,3,3]\n",
    "\n",
    "# [0,0,1,1,1,1,2,3,3]\n",
    "# [0,0,1,1,2,1,2,3,3]\n",
    "# [0,0,1,1,2,3,2,3,3]\n",
    "# [            l     ]\n",
    "# [              r   ]\n",
    "class Solution:\n",
    "    count: int = 0\n",
    "    countMap: dict = {}\n",
    "\n",
    "    def __init__(self) -> None:\n",
    "        self.count = 0\n",
    "        self.countMap = {}\n",
    "\n",
    "    def dupDictUpdate(self, n, inc):\n",
    "        if not self.countMap.get(n, False):\n",
    "            self.countMap[n] = 0\n",
    "        \n",
    "        self.countMap[n] += inc\n",
    "\n",
    "\n",
    "    def removeDuplicates(self, nums: List[int]) -> int:\n",
    "\n",
    "        for n in nums:\n",
    "            self.dupDictUpdate(n, 1)\n",
    "\n",
    "        left = 0\n",
    "        right = 0\n",
    "        for k,v in self.countMap.items():\n",
    "            maxI = v if v < 2 else 2\n",
    "            self.count += maxI\n",
    "            right = left + maxI\n",
    "            if right >= len(nums):\n",
    "                right = len(nums) - 1\n",
    "            for i in range(left, right):\n",
    "                nums[i] = int(k)\n",
    "            left = right\n",
    "    \n",
    "        return self.count\n",
    "\n",
    "\n",
    "\n",
    "arr = [0,0,1,1,1,1,2,3,3]\n",
    "sln = Solution()\n",
    "print(sln.removeDuplicates(arr))\n",
    "print(arr)\n",
    "\n",
    "\n",
    "arr2 = [1,1,1,2,2,3]\n",
    "sln2 = Solution()\n",
    "print(sln2.removeDuplicates(arr2))\n",
    "print(arr2)"
   ]
  }
 ],
 "metadata": {
  "kernelspec": {
   "display_name": "Python 3",
   "language": "python",
   "name": "python3"
  },
  "language_info": {
   "codemirror_mode": {
    "name": "ipython",
    "version": 3
   },
   "file_extension": ".py",
   "mimetype": "text/x-python",
   "name": "python",
   "nbconvert_exporter": "python",
   "pygments_lexer": "ipython3",
   "version": "3.11.9"
  }
 },
 "nbformat": 4,
 "nbformat_minor": 2
}
