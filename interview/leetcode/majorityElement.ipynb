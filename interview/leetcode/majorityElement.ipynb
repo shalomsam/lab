{
 "cells": [
  {
   "cell_type": "code",
   "execution_count": 1,
   "metadata": {},
   "outputs": [
    {
     "name": "stdout",
     "output_type": "stream",
     "text": [
      "3\n",
      "2\n"
     ]
    }
   ],
   "source": [
    "from typing import List\n",
    "\n",
    "\n",
    "class Solution:\n",
    "    def majorityElement(self, nums: List[int]) -> int:\n",
    "        countMap: dict = {}\n",
    "        popular = None\n",
    "        for n in nums:\n",
    "            if countMap.get(n, False):\n",
    "                countMap[n] += 1\n",
    "            else:\n",
    "                countMap[n] = 1\n",
    "        \n",
    "        for k,v in countMap.items():\n",
    "            if popular is None or countMap[popular] < v:\n",
    "                popular = k\n",
    "\n",
    "        return popular\n",
    "    \n",
    "\n",
    "nums = [3,2,3]\n",
    "sln = Solution()\n",
    "print(sln.majorityElement(nums))\n",
    "\n",
    "nums2 = [2,2,1,1,1,2,2]\n",
    "sln2 = Solution()\n",
    "print(sln2.majorityElement(nums2))"
   ]
  }
 ],
 "metadata": {
  "kernelspec": {
   "display_name": "Python 3",
   "language": "python",
   "name": "python3"
  },
  "language_info": {
   "codemirror_mode": {
    "name": "ipython",
    "version": 3
   },
   "file_extension": ".py",
   "mimetype": "text/x-python",
   "name": "python",
   "nbconvert_exporter": "python",
   "pygments_lexer": "ipython3",
   "version": "3.11.9"
  }
 },
 "nbformat": 4,
 "nbformat_minor": 2
}
