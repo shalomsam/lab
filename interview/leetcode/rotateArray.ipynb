{
 "cells": [
  {
   "cell_type": "code",
   "execution_count": 16,
   "metadata": {},
   "outputs": [
    {
     "name": "stdout",
     "output_type": "stream",
     "text": [
      "[7, 1, 3, 4, 5, 6, 2]\n"
     ]
    }
   ],
   "source": [
    "from typing import List\n",
    "\n",
    "\n",
    "class Solution:\n",
    "    def reverse(self, arr, start, end):\n",
    "        while start < end:\n",
    "            arr[start], arr[end] = arr[end], arr[start]\n",
    "            start += 1\n",
    "            end -= 1\n",
    "    \n",
    "    def rotate(self, nums: List[int], k: int) -> None:\n",
    "        \"\"\"\n",
    "        Do not return anything, modify nums in-place instead.\n",
    "        \"\"\"\n",
    "        size = len(nums)\n",
    "        if size == k or k % size == 0:\n",
    "            return\n",
    "        elif k > size:\n",
    "            k = k % size\n",
    "\n",
    "        # reverse whole array\n",
    "        self.reverse(nums, 0, size - 1)\n",
    "        # reverse first k elements\n",
    "        self.reverse(nums, 0, k - 1)\n",
    "        # reverse kth element to end\n",
    "        self.reverse(nums, k, size - 1)\n",
    "        \n",
    "\n",
    "\n",
    "nums = [1,2,3,4,5,6,7]\n",
    "k = 15\n",
    "sln = Solution()\n",
    "sln.rotate(nums=nums, k=k)\n",
    "print(nums)\n",
    "\n",
    "\n",
    "\n",
    "# k2 = 11939\n",
    "# sln2 = Solution()\n",
    "# sln2.rotate(nums=nums2, k=k2)\n",
    "# print(nums2)"
   ]
  }
 ],
 "metadata": {
  "kernelspec": {
   "display_name": "Python 3",
   "language": "python",
   "name": "python3"
  },
  "language_info": {
   "codemirror_mode": {
    "name": "ipython",
    "version": 3
   },
   "file_extension": ".py",
   "mimetype": "text/x-python",
   "name": "python",
   "nbconvert_exporter": "python",
   "pygments_lexer": "ipython3",
   "version": "3.11.9"
  }
 },
 "nbformat": 4,
 "nbformat_minor": 2
}
