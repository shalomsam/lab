{
 "cells": [
  {
   "cell_type": "code",
   "execution_count": 7,
   "metadata": {},
   "outputs": [
    {
     "name": "stdout",
     "output_type": "stream",
     "text": [
      "0\n"
     ]
    }
   ],
   "source": [
    "from typing import List\n",
    "\n",
    "\n",
    "class Solution:\n",
    "    def maxProfit2(self, prices: List[int]) -> int:\n",
    "        max_profit = 0\n",
    "        for i in range(0, len(prices)):\n",
    "            for j in range(i+1, len(prices)):\n",
    "                if prices[i] < prices[j] and max_profit < (prices[j] - prices[i]):\n",
    "                    max_profit = prices[j] - prices[i]\n",
    "\n",
    "        return max_profit\n",
    "\n",
    "\n",
    "\n",
    "\n",
    "prices = [7,6,4,3,1]\n",
    "sln = Solution()\n",
    "print(sln.maxProfit2(prices=prices))"
   ]
  }
 ],
 "metadata": {
  "kernelspec": {
   "display_name": "Python 3",
   "language": "python",
   "name": "python3"
  },
  "language_info": {
   "codemirror_mode": {
    "name": "ipython",
    "version": 3
   },
   "file_extension": ".py",
   "mimetype": "text/x-python",
   "name": "python",
   "nbconvert_exporter": "python",
   "pygments_lexer": "ipython3",
   "version": "3.11.9"
  }
 },
 "nbformat": 4,
 "nbformat_minor": 2
}
